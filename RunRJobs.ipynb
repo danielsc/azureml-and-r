{
 "cells": [
  {
   "cell_type": "code",
   "execution_count": 1,
   "metadata": {},
   "outputs": [
    {
     "name": "stdout",
     "output_type": "stream",
     "text": [
      "SDK version: 1.0.15\n"
     ]
    }
   ],
   "source": [
    "import azureml.core\n",
    "\n",
    "source_folder = '.'\n",
    "print(\"SDK version:\", azureml.core.VERSION)"
   ]
  },
  {
   "cell_type": "markdown",
   "metadata": {},
   "source": [
    "## Load Workspace\n",
    "The following cell will read the workspace configuration from aml_config/config.json\n",
    "\n",
    "Make sure to place the config.json file containing your workspace configuration there -- see <a href=\"https://docs.microsoft.com/en-us/python/api/azureml-core/azureml.core.workspace(class)?view=azure-ml-py#from-config-path-none--auth-none-\">here</a> for details. "
   ]
  },
  {
   "cell_type": "code",
   "execution_count": 4,
   "metadata": {},
   "outputs": [
    {
     "name": "stdout",
     "output_type": "stream",
     "text": [
      "Found the config file in: /Users/danielsc/git/azureml-and-r/aml_config/config.json\n"
     ]
    }
   ],
   "source": [
    "from azureml.core import Workspace\n",
    "ws = Workspace.from_config()"
   ]
  },
  {
   "cell_type": "markdown",
   "metadata": {},
   "source": [
    "## Create and Experiment "
   ]
  },
  {
   "cell_type": "code",
   "execution_count": 5,
   "metadata": {},
   "outputs": [],
   "source": [
    "from azureml.core import Experiment\n",
    "\n",
    "experiment = Experiment(ws, 'testing-R')"
   ]
  },
  {
   "cell_type": "markdown",
   "metadata": {},
   "source": [
    "## The R file\n",
    "There is an R file in this folder which just loads some data and creates a plot. The next cell will show the file, so you can inspect it. The script writes a pdf to the `outputs` folder -- that file is uploaded to the run history after the run completes.\n",
    "In order to log data to AML you need the azureml Run object. Since that lives in python, we are using reticulate to spin up a python environment where we can create/fetch it. \n",
    "\n"
   ]
  },
  {
   "cell_type": "code",
   "execution_count": 6,
   "metadata": {},
   "outputs": [
    {
     "name": "stdout",
     "output_type": "stream",
     "text": [
      "\u001b[32mlibrary\u001b[39;49;00m(caret)\r\n",
      "\u001b[32mlibrary\u001b[39;49;00m(reticulate)\r\n",
      "\r\n",
      "azureml_core = \u001b[32mimport\u001b[39;49;00m(\u001b[33m\"\u001b[39;49;00m\u001b[33mazureml.core\"\u001b[39;49;00m)\r\n",
      "run = azureml_core$Run$\u001b[32mget_context\u001b[39;49;00m()\r\n",
      "run$\u001b[32mlog\u001b[39;49;00m(\u001b[33m\"\u001b[39;49;00m\u001b[33mtest\"\u001b[39;49;00m, \u001b[34m1\u001b[39;49;00m)\r\n",
      "\r\n",
      "\u001b[32mprint\u001b[39;49;00m(\u001b[32mc\u001b[39;49;00m(\u001b[33m\"\u001b[39;49;00m\u001b[33mrunid\"\u001b[39;49;00m,run$id))\r\n",
      "\r\n",
      "\u001b[37m# attach the iris dataset to the environment\u001b[39;49;00m\r\n",
      "\u001b[32mdata\u001b[39;49;00m(iris)\r\n",
      "\u001b[37m# rename the dataset\u001b[39;49;00m\r\n",
      "dataset <- iris\r\n",
      "\r\n",
      "\u001b[37m# list types for each attribute\u001b[39;49;00m\r\n",
      "\u001b[32msapply\u001b[39;49;00m(dataset, class)\r\n",
      "\r\n",
      "\u001b[37m# take a peek at the first 5 rows of the data\u001b[39;49;00m\r\n",
      "\u001b[32mhead\u001b[39;49;00m(dataset)\r\n",
      "\r\n",
      "\u001b[37m# list the levels for the class\u001b[39;49;00m\r\n",
      "\u001b[32mlevels\u001b[39;49;00m(dataset$Species)\r\n",
      "\r\n",
      "\u001b[37m# summarize the class distribution\u001b[39;49;00m\r\n",
      "percentage <- \u001b[32mprop.table\u001b[39;49;00m(\u001b[32mtable\u001b[39;49;00m(dataset$Species)) * \u001b[34m100\u001b[39;49;00m\r\n",
      "\u001b[32mcbind\u001b[39;49;00m(freq=\u001b[32mtable\u001b[39;49;00m(dataset$Species), percentage=percentage)\r\n",
      "\r\n",
      "\u001b[37m# summarize attribute distributions\u001b[39;49;00m\r\n",
      "\u001b[32msummary\u001b[39;49;00m(dataset)\r\n",
      "\r\n",
      "\u001b[37m# split input and output\u001b[39;49;00m\r\n",
      "x <- dataset[,\u001b[34m1\u001b[39;49;00m:\u001b[34m4\u001b[39;49;00m]\r\n",
      "y <- dataset[,\u001b[34m5\u001b[39;49;00m]\r\n",
      "\r\n",
      "\u001b[37m# density plots for each attribute by class value\u001b[39;49;00m\r\n",
      "scales <- \u001b[32mlist\u001b[39;49;00m(x=\u001b[32mlist\u001b[39;49;00m(relation=\u001b[33m\"\u001b[39;49;00m\u001b[33mfree\"\u001b[39;49;00m), y=\u001b[32mlist\u001b[39;49;00m(relation=\u001b[33m\"\u001b[39;49;00m\u001b[33mfree\"\u001b[39;49;00m))\r\n",
      "\r\n",
      "\u001b[32mpdf\u001b[39;49;00m(\u001b[33m'\u001b[39;49;00m\u001b[33moutputs/plots.pdf'\u001b[39;49;00m)\r\n",
      "\u001b[32mfeaturePlot\u001b[39;49;00m(x=x, y=y, plot=\u001b[33m\"\u001b[39;49;00m\u001b[33mdensity\"\u001b[39;49;00m, scales=scales)\r\n",
      "\r\n",
      "run$\u001b[33m'\u001b[39;49;00m\u001b[33m_client'\u001b[39;49;00m$\u001b[32mflush\u001b[39;49;00m()\r\n"
     ]
    }
   ],
   "source": [
    "!pygmentize test.R"
   ]
  },
  {
   "cell_type": "code",
   "execution_count": 12,
   "metadata": {},
   "outputs": [],
   "source": [
    "target = ws.compute_targets['aml-compute']"
   ]
  },
  {
   "cell_type": "code",
   "execution_count": 13,
   "metadata": {},
   "outputs": [
    {
     "data": {
      "text/html": [
       "<table style=\"width:100%\"><tr><th>Experiment</th><th>Id</th><th>Type</th><th>Status</th><th>Details Page</th><th>Docs Page</th></tr><tr><td>testing-R</td><td>testing-R_1551475722_b6601c5f</td><td>azureml.scriptrun</td><td>Queued</td><td><a href=\"https://mlworkspace.azure.ai/portal/subscriptions/4feb84f6-2c10-4536-9c8a-0a2360eabfc5/resourceGroups/azureml/providers/Microsoft.MachineLearningServices/workspaces/DanielSc/experiments/testing-R/runs/testing-R_1551475722_b6601c5f\" target=\"_blank\" rel=\"noopener\">Link to Azure Portal</a></td><td><a href=\"https://docs.microsoft.com/en-us/python/api/azureml-core/azureml.core.script_run.ScriptRun?view=azure-ml-py\" target=\"_blank\" rel=\"noopener\">Link to Documentation</a></td></tr></table>"
      ],
      "text/plain": [
       "Run(Experiment: testing-R,\n",
       "Id: testing-R_1551475722_b6601c5f,\n",
       "Type: azureml.scriptrun,\n",
       "Status: Queued)"
      ]
     },
     "execution_count": 13,
     "metadata": {},
     "output_type": "execute_result"
    }
   ],
   "source": [
    "from azureml.train.estimator import Estimator\n",
    "\n",
    "estwithr = Estimator(source_directory='.', \n",
    "                     conda_packages=['r-essentials', 'mro-base', 'r-reticulate'],\n",
    "                    compute_target=target, \n",
    "                    entry_script='launchR.py', \n",
    "                     script_params={'test.R': ''})\n",
    "\n",
    "runwithr = experiment.submit(estwithr)\n",
    "runwithr"
   ]
  },
  {
   "cell_type": "code",
   "execution_count": 14,
   "metadata": {},
   "outputs": [
    {
     "data": {
      "application/vnd.jupyter.widget-view+json": {
       "model_id": "fee18b89f24c4fa992fd41be49dce06f",
       "version_major": 2,
       "version_minor": 0
      },
      "text/plain": [
       "_UserRunWidget(widget_settings={'childWidgetDisplay': 'popup', 'send_telemetry': False, 'log_level': 'INFO', '…"
      ]
     },
     "metadata": {},
     "output_type": "display_data"
    }
   ],
   "source": [
    "from azureml.widgets import RunDetails\n",
    "RunDetails(runwithr).show()"
   ]
  },
  {
   "cell_type": "code",
   "execution_count": null,
   "metadata": {},
   "outputs": [],
   "source": []
  }
 ],
 "metadata": {
  "kernelspec": {
   "display_name": "Python (azureml)",
   "language": "python",
   "name": "azureml"
  },
  "language_info": {
   "codemirror_mode": {
    "name": "ipython",
    "version": 3
   },
   "file_extension": ".py",
   "mimetype": "text/x-python",
   "name": "python",
   "nbconvert_exporter": "python",
   "pygments_lexer": "ipython3",
   "version": "3.6.8"
  }
 },
 "nbformat": 4,
 "nbformat_minor": 2
}
