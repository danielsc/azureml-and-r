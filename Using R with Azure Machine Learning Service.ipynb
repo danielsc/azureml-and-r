{
  "cells": [
    {
      "metadata": {
        "ExecuteTime": {
          "start_time": "2019-02-27T19:33:10.15Z",
          "end_time": "2019-02-27T19:33:10.396839Z"
        },
        "trusted": true
      },
      "cell_type": "markdown",
      "source": "### Install relevant packages"
    },
    {
      "metadata": {
        "trusted": true,
        "ExecuteTime": {
          "start_time": "2019-02-27T18:21:27.437Z",
          "end_time": "2019-02-27T18:21:49.99932Z"
        }
      },
      "cell_type": "code",
      "source": "install.packages('reticulate')",
      "execution_count": null,
      "outputs": []
    },
    {
      "metadata": {},
      "cell_type": "markdown",
      "source": "### Using Reticulate to interop with azureml-sdk\n\nNote: This should use DSVM as a compute target, and the soft-link to Python need to point to Anaconda, instead of the default Python 2.7 in a DSVM"
    },
    {
      "metadata": {
        "ExecuteTime": {
          "start_time": "2019-02-27T21:20:51.283Z",
          "end_time": "2019-02-27T21:20:51.35007Z"
        },
        "trusted": true
      },
      "cell_type": "code",
      "source": "library(\"reticulate\")\npy_config()",
      "execution_count": 11,
      "outputs": [
        {
          "output_type": "display_data",
          "data": {
            "text/plain": "python:         /usr/bin/python\nlibpython:      /anaconda/envs/py35/lib/libpython3.5m.so\npythonhome:     /anaconda/envs/py35:/anaconda/envs/py35\nversion:        3.5.5 |Anaconda custom (64-bit)| (default, May 13 2018, 21:12:35)  [GCC 7.2.0]\nnumpy:          /data/anaconda/envs/py35/lib/python3.5/site-packages/numpy\nnumpy_version:  1.14.5\n\npython versions found: \n /usr/bin/python\n /usr/bin/python3"
          },
          "metadata": {}
        }
      ]
    },
    {
      "metadata": {
        "ExecuteTime": {
          "start_time": "2019-02-27T21:20:52.324Z",
          "end_time": "2019-02-27T21:20:52.393538Z"
        },
        "trusted": true
      },
      "cell_type": "code",
      "source": "# Check that python is installed\npy_available()",
      "execution_count": 12,
      "outputs": [
        {
          "output_type": "display_data",
          "data": {
            "text/latex": "TRUE",
            "text/plain": "[1] TRUE",
            "text/markdown": "TRUE",
            "text/html": "TRUE"
          },
          "metadata": {}
        }
      ]
    },
    {
      "metadata": {
        "ExecuteTime": {
          "start_time": "2019-02-27T21:20:53.033Z",
          "end_time": "2019-02-27T21:20:53.101853Z"
        },
        "trusted": true
      },
      "cell_type": "code",
      "source": "sys <- import(\"sys\")\nsys$version",
      "execution_count": 13,
      "outputs": [
        {
          "output_type": "display_data",
          "data": {
            "text/latex": "'3.5.5 \\textbar{}Anaconda custom (64-bit)\\textbar{} (default, May 13 2018, 21:14:40) \\textbackslash{}n{[}GCC 7.2.0{]}'",
            "text/plain": "[1] \"3.5.5 |Anaconda custom (64-bit)| (default, May 13 2018, 21:14:40) \\n[GCC 7.2.0]\"",
            "text/markdown": "'3.5.5 |Anaconda custom (64-bit)| (default, May 13 2018, 21:14:40) \\n[GCC 7.2.0]'",
            "text/html": "'3.5.5 |Anaconda custom (64-bit)| (default, May 13 2018, 21:14:40) \\n[GCC 7.2.0]'"
          },
          "metadata": {}
        }
      ]
    },
    {
      "metadata": {
        "ExecuteTime": {
          "start_time": "2019-02-27T21:20:53.735Z",
          "end_time": "2019-02-27T21:20:53.802336Z"
        },
        "trusted": true
      },
      "cell_type": "code",
      "source": "# Check that you are using the correct Python version\npy_config()",
      "execution_count": 14,
      "outputs": [
        {
          "output_type": "display_data",
          "data": {
            "text/plain": "python:         /usr/bin/python\nlibpython:      /anaconda/envs/py35/lib/libpython3.5m.so\npythonhome:     /anaconda/envs/py35:/anaconda/envs/py35\nversion:        3.5.5 |Anaconda custom (64-bit)| (default, May 13 2018, 21:12:35)  [GCC 7.2.0]\nnumpy:          /data/anaconda/envs/py35/lib/python3.5/site-packages/numpy\nnumpy_version:  1.14.5\n\npython versions found: \n /usr/bin/python\n /usr/bin/python3"
          },
          "metadata": {}
        }
      ]
    },
    {
      "metadata": {
        "ExecuteTime": {
          "start_time": "2019-02-27T21:20:54.663Z",
          "end_time": "2019-02-27T21:20:54.731475Z"
        },
        "trusted": true
      },
      "cell_type": "code",
      "source": "# Show the version of the AML SDK\naml <- import(\"azureml.core\")\naml$VERSION\n",
      "execution_count": 15,
      "outputs": [
        {
          "output_type": "display_data",
          "data": {
            "text/latex": "'1.0.17'",
            "text/plain": "[1] \"1.0.17\"",
            "text/markdown": "'1.0.17'",
            "text/html": "'1.0.17'"
          },
          "metadata": {}
        }
      ]
    },
    {
      "metadata": {
        "ExecuteTime": {
          "start_time": "2019-02-27T21:20:57.694Z",
          "end_time": "2019-02-27T21:20:57.763123Z"
        },
        "trusted": true
      },
      "cell_type": "code",
      "source": "ws <- import(\"azureml.core.workspace\")\nws",
      "execution_count": 16,
      "outputs": [
        {
          "output_type": "display_data",
          "data": {
            "text/plain": "Module(azureml.core.workspace)"
          },
          "metadata": {}
        }
      ]
    },
    {
      "metadata": {
        "ExecuteTime": {
          "start_time": "2019-02-27T21:20:58.379Z",
          "end_time": "2019-02-27T21:20:58.453504Z"
        },
        "trusted": true
      },
      "cell_type": "code",
      "source": "os <- import(\"os\")\n\nsubscription_id = os$getenv(\"SUBSCRIPTION_ID\", default=\"<subscription id\")\nresource_group = os$getenv(\"RESOURCE_GROUP\", default=\"<name of resource group>\")\nworkspace_name = os$getenv(\"WORKSPACE_NAME\", default=\"<Azure Machine Learning Workspace>\")\nworkspace_region = os$getenv(\"WORKSPACE_REGION\", default=\"eastus\")\nsvc_pr_password = \"<Access Key for Service Principal>\"",
      "execution_count": 17,
      "outputs": []
    },
    {
      "metadata": {
        "ExecuteTime": {
          "start_time": "2019-02-27T21:21:00.938Z",
          "end_time": "2019-02-27T21:21:01.002046Z"
        },
        "trusted": true
      },
      "cell_type": "code",
      "source": "auth <- import(\"azureml.core.authentication\")",
      "execution_count": 19,
      "outputs": []
    },
    {
      "metadata": {
        "ExecuteTime": {
          "start_time": "2019-02-27T21:21:01.566Z",
          "end_time": "2019-02-27T21:21:01.636261Z"
        },
        "trusted": true
      },
      "cell_type": "code",
      "source": "# To create the Service Principal -\n# Refer to http://htmlpreview.github.io/?https://github.com/Microsoft/AzureSMR/blob/master/inst/doc/Authentication.html\n# Note: You need to replace the following lines with the tenant id and service_principal id\nsvc_pr <- auth$ServicePrincipalAuthentication(\n    tenant_id=\"<specify tenant id>\",\n    service_principal_id=\"<specify principal id>\",\n    service_principal_password=svc_pr_password)\n",
      "execution_count": 20,
      "outputs": []
    },
    {
      "metadata": {
        "ExecuteTime": {
          "start_time": "2019-02-27T21:21:02.434Z",
          "end_time": "2019-02-27T21:21:02.499856Z"
        },
        "trusted": true
      },
      "cell_type": "code",
      "source": "svc_pr",
      "execution_count": 21,
      "outputs": [
        {
          "output_type": "display_data",
          "data": {
            "text/plain": "<azureml.core.authentication.ServicePrincipalAuthentication>"
          },
          "metadata": {}
        }
      ]
    },
    {
      "metadata": {
        "ExecuteTime": {
          "start_time": "2019-02-27T21:21:05.951Z",
          "end_time": "2019-02-27T21:21:07.732303Z"
        },
        "trusted": true
      },
      "cell_type": "code",
      "source": "w = ws$Workspace(subscription_id= subscription_id,\n               resource_group=resource_group,\n               workspace_name=workspace_name,\n            auth=svc_pr)",
      "execution_count": 22,
      "outputs": []
    },
    {
      "metadata": {
        "ExecuteTime": {
          "start_time": "2019-02-27T21:21:06.602Z",
          "end_time": "2019-02-27T21:21:07.7492Z"
        },
        "trusted": true
      },
      "cell_type": "code",
      "source": "# Inspect the workspace object\nw",
      "execution_count": 23,
      "outputs": [
        {
          "output_type": "display_data",
          "data": {
            "text/plain": "<azureml.core.workspace.Workspace>"
          },
          "metadata": {}
        }
      ]
    },
    {
      "metadata": {
        "ExecuteTime": {
          "start_time": "2019-02-27T21:21:08.687Z",
          "end_time": "2019-02-27T21:21:09.63605Z"
        },
        "trusted": true
      },
      "cell_type": "code",
      "source": "# List all the Azure Machine Learning workspaces\nw$list(subscription_id, auth=svc_pr, resource_group=resource_group )",
      "execution_count": 24,
      "outputs": [
        {
          "output_type": "display_data",
          "data": {
            "text/plain": "$weehyongws\n$weehyongws[[1]]\n<azureml.core.workspace.Workspace>\n\n"
          },
          "metadata": {}
        }
      ]
    },
    {
      "metadata": {
        "trusted": true
      },
      "cell_type": "code",
      "source": "",
      "execution_count": null,
      "outputs": []
    }
  ],
  "metadata": {
    "kernelspec": {
      "name": "ir",
      "display_name": "R",
      "language": "R"
    },
    "language_info": {
      "name": "R",
      "file_extension": ".r",
      "version": "3.4.3",
      "mimetype": "text/x-r-source",
      "codemirror_mode": "r",
      "pygments_lexer": "r"
    }
  },
  "nbformat": 4,
  "nbformat_minor": 2
}